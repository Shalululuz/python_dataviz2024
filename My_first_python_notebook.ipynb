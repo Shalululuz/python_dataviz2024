{
  "nbformat": 4,
  "nbformat_minor": 0,
  "metadata": {
    "colab": {
      "provenance": [],
      "authorship_tag": "ABX9TyNSDj22rsu4cGEWHZ/P/UtG",
      "include_colab_link": true
    },
    "kernelspec": {
      "name": "python3",
      "display_name": "Python 3"
    },
    "language_info": {
      "name": "python"
    }
  },
  "cells": [
    {
      "cell_type": "markdown",
      "metadata": {
        "id": "view-in-github",
        "colab_type": "text"
      },
      "source": [
        "<a href=\"https://colab.research.google.com/github/Shalululuz/python_dataviz2024/blob/main/My_first_python_notebook.ipynb\" target=\"_parent\"><img src=\"https://colab.research.google.com/assets/colab-badge.svg\" alt=\"Open In Colab\"/></a>"
      ]
    },
    {
      "cell_type": "code",
      "execution_count": null,
      "metadata": {
        "id": "Islx9a6FQ7mR"
      },
      "outputs": [],
      "source": []
    },
    {
      "cell_type": "markdown",
      "source": [
        "Basic Programming For Data Science & Data Visualization\n",
        "\n",
        "here we use **markdown**"
      ],
      "metadata": {
        "id": "qKxpv_GpRiG4"
      }
    },
    {
      "cell_type": "code",
      "source": [
        "print('Get back to work')"
      ],
      "metadata": {
        "colab": {
          "base_uri": "https://localhost:8080/"
        },
        "id": "VGV2fBBXSM9D",
        "outputId": "7786dbeb-3d43-4994-d97b-b400c5550650"
      },
      "execution_count": 1,
      "outputs": [
        {
          "output_type": "stream",
          "name": "stdout",
          "text": [
            "Get back to work\n"
          ]
        }
      ]
    },
    {
      "cell_type": "code",
      "source": [
        "print('I said get back to work!')"
      ],
      "metadata": {
        "colab": {
          "base_uri": "https://localhost:8080/"
        },
        "id": "_HaOEHR4Sw9R",
        "outputId": "d540c765-e367-4645-c09f-db2e56320461"
      },
      "execution_count": 2,
      "outputs": [
        {
          "output_type": "stream",
          "name": "stdout",
          "text": [
            "I said get back to work!\n"
          ]
        }
      ]
    }
  ]
}